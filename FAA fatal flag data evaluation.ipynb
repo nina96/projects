{
 "cells": [
  {
   "cell_type": "markdown",
   "metadata": {},
   "source": [
    "<img src=\"http://cfs22.simplicdn.net/ice9/new_logo.svgz \"/>\n",
    "\n",
    "# Assignment 01: Evaluate the FAA Dataset\n",
    "\n",
    "*The comments/sections provided are your cues to perform the assignment. You don't need to limit yourself to the number of rows/cells provided. You can add additional rows in each section to add more lines of code.*\n",
    "\n",
    "*If at any point in time you need help on solving this assignment, view our demo video to understand the different steps of the code.*\n",
    "\n",
    "**Happy coding!**\n",
    "\n",
    "* * *"
   ]
  },
  {
   "cell_type": "markdown",
   "metadata": {},
   "source": [
    "#### 1: VIew and import the dataset"
   ]
  },
  {
   "cell_type": "code",
   "execution_count": 1,
   "metadata": {
    "tags": []
   },
   "outputs": [],
   "source": [
    "#Import necessary libraries\n",
    "import numpy as np\n",
    "import pandas as pd"
   ]
  },
  {
   "cell_type": "code",
   "execution_count": 5,
   "metadata": {
    "tags": []
   },
   "outputs": [],
   "source": [
    "#Import the FAA (Federal Aviation Authority) dataset\n",
    "faa_data=pd.read_csv(\"faa_ai_prelim.csv\")"
   ]
  },
  {
   "cell_type": "markdown",
   "metadata": {},
   "source": [
    "#### 2: View and understand the dataset"
   ]
  },
  {
   "cell_type": "code",
   "execution_count": 7,
   "metadata": {
    "collapsed": false,
    "jupyter": {
     "outputs_hidden": false
    }
   },
   "outputs": [
    {
     "data": {
      "text/plain": [
       "(83, 42)"
      ]
     },
     "execution_count": 7,
     "metadata": {},
     "output_type": "execute_result"
    }
   ],
   "source": [
    "#View the dataset shape\n",
    "faa_data.shape"
   ]
  },
  {
   "cell_type": "code",
   "execution_count": 10,
   "metadata": {
    "collapsed": false,
    "jupyter": {
     "outputs_hidden": false
    }
   },
   "outputs": [
    {
     "data": {
      "text/html": [
       "<div>\n",
       "<style scoped>\n",
       "    .dataframe tbody tr th:only-of-type {\n",
       "        vertical-align: middle;\n",
       "    }\n",
       "\n",
       "    .dataframe tbody tr th {\n",
       "        vertical-align: top;\n",
       "    }\n",
       "\n",
       "    .dataframe thead th {\n",
       "        text-align: right;\n",
       "    }\n",
       "</style>\n",
       "<table border=\"1\" class=\"dataframe\">\n",
       "  <thead>\n",
       "    <tr style=\"text-align: right;\">\n",
       "      <th></th>\n",
       "      <th>UPDATED</th>\n",
       "      <th>ENTRY_DATE</th>\n",
       "      <th>EVENT_LCL_DATE</th>\n",
       "      <th>EVENT_LCL_TIME</th>\n",
       "      <th>LOC_CITY_NAME</th>\n",
       "      <th>LOC_STATE_NAME</th>\n",
       "      <th>LOC_CNTRY_NAME</th>\n",
       "      <th>RMK_TEXT</th>\n",
       "      <th>EVENT_TYPE_DESC</th>\n",
       "      <th>FSDO_DESC</th>\n",
       "      <th>...</th>\n",
       "      <th>PAX_INJ_NONE</th>\n",
       "      <th>PAX_INJ_MINOR</th>\n",
       "      <th>PAX_INJ_SERIOUS</th>\n",
       "      <th>PAX_INJ_FATAL</th>\n",
       "      <th>PAX_INJ_UNK</th>\n",
       "      <th>GRND_INJ_NONE</th>\n",
       "      <th>GRND_INJ_MINOR</th>\n",
       "      <th>GRND_INJ_SERIOUS</th>\n",
       "      <th>GRND_INJ_FATAL</th>\n",
       "      <th>GRND_INJ_UNK</th>\n",
       "    </tr>\n",
       "  </thead>\n",
       "  <tbody>\n",
       "    <tr>\n",
       "      <th>0</th>\n",
       "      <td>No</td>\n",
       "      <td>19-FEB-16</td>\n",
       "      <td>19-FEB-16</td>\n",
       "      <td>00:45:00Z</td>\n",
       "      <td>MARSHVILLE</td>\n",
       "      <td>North Carolina</td>\n",
       "      <td>NaN</td>\n",
       "      <td>AIRCRAFT CRASHED INTO TREES, THE 1 PERSON ON B...</td>\n",
       "      <td>Accident</td>\n",
       "      <td>FAA Charlotte FSDO-68</td>\n",
       "      <td>...</td>\n",
       "      <td>NaN</td>\n",
       "      <td>NaN</td>\n",
       "      <td>NaN</td>\n",
       "      <td>NaN</td>\n",
       "      <td>NaN</td>\n",
       "      <td>NaN</td>\n",
       "      <td>NaN</td>\n",
       "      <td>NaN</td>\n",
       "      <td>NaN</td>\n",
       "      <td>NaN</td>\n",
       "    </tr>\n",
       "    <tr>\n",
       "      <th>1</th>\n",
       "      <td>No</td>\n",
       "      <td>19-FEB-16</td>\n",
       "      <td>18-FEB-16</td>\n",
       "      <td>23:55:00Z</td>\n",
       "      <td>TAVERNIER</td>\n",
       "      <td>Florida</td>\n",
       "      <td>NaN</td>\n",
       "      <td>AIRCRAFT ON LANDING WENT OFF THE END OF THE RU...</td>\n",
       "      <td>Incident</td>\n",
       "      <td>FAA Miami FSDO-19</td>\n",
       "      <td>...</td>\n",
       "      <td>NaN</td>\n",
       "      <td>NaN</td>\n",
       "      <td>NaN</td>\n",
       "      <td>NaN</td>\n",
       "      <td>NaN</td>\n",
       "      <td>NaN</td>\n",
       "      <td>NaN</td>\n",
       "      <td>NaN</td>\n",
       "      <td>NaN</td>\n",
       "      <td>NaN</td>\n",
       "    </tr>\n",
       "    <tr>\n",
       "      <th>2</th>\n",
       "      <td>No</td>\n",
       "      <td>19-FEB-16</td>\n",
       "      <td>18-FEB-16</td>\n",
       "      <td>22:14:00Z</td>\n",
       "      <td>TRENTON</td>\n",
       "      <td>New Jersey</td>\n",
       "      <td>NaN</td>\n",
       "      <td>AIRCRAFT ON FINAL SUSTAINED A BIRD STRIKE, LAN...</td>\n",
       "      <td>Incident</td>\n",
       "      <td>FAA Philadelphia FSDO-17</td>\n",
       "      <td>...</td>\n",
       "      <td>NaN</td>\n",
       "      <td>NaN</td>\n",
       "      <td>NaN</td>\n",
       "      <td>NaN</td>\n",
       "      <td>NaN</td>\n",
       "      <td>NaN</td>\n",
       "      <td>NaN</td>\n",
       "      <td>NaN</td>\n",
       "      <td>NaN</td>\n",
       "      <td>NaN</td>\n",
       "    </tr>\n",
       "    <tr>\n",
       "      <th>3</th>\n",
       "      <td>No</td>\n",
       "      <td>19-FEB-16</td>\n",
       "      <td>18-FEB-16</td>\n",
       "      <td>17:10:00Z</td>\n",
       "      <td>ASHEVILLE</td>\n",
       "      <td>North Carolina</td>\n",
       "      <td>NaN</td>\n",
       "      <td>AIRCRAFT ON LANDING, GEAR COLLAPSED, ASHEVILLE...</td>\n",
       "      <td>Incident</td>\n",
       "      <td>FAA Charlotte FSDO-68</td>\n",
       "      <td>...</td>\n",
       "      <td>NaN</td>\n",
       "      <td>NaN</td>\n",
       "      <td>NaN</td>\n",
       "      <td>NaN</td>\n",
       "      <td>NaN</td>\n",
       "      <td>NaN</td>\n",
       "      <td>NaN</td>\n",
       "      <td>NaN</td>\n",
       "      <td>NaN</td>\n",
       "      <td>NaN</td>\n",
       "    </tr>\n",
       "    <tr>\n",
       "      <th>4</th>\n",
       "      <td>No</td>\n",
       "      <td>19-FEB-16</td>\n",
       "      <td>18-FEB-16</td>\n",
       "      <td>00:26:00Z</td>\n",
       "      <td>TALKEETNA</td>\n",
       "      <td>Alaska</td>\n",
       "      <td>NaN</td>\n",
       "      <td>AIRCRAFT ON LANDING, NOSE GEAR COLLAPSED, TALK...</td>\n",
       "      <td>Incident</td>\n",
       "      <td>FAA Anchorage FSDO-03</td>\n",
       "      <td>...</td>\n",
       "      <td>NaN</td>\n",
       "      <td>1.0</td>\n",
       "      <td>NaN</td>\n",
       "      <td>NaN</td>\n",
       "      <td>NaN</td>\n",
       "      <td>NaN</td>\n",
       "      <td>NaN</td>\n",
       "      <td>NaN</td>\n",
       "      <td>NaN</td>\n",
       "      <td>NaN</td>\n",
       "    </tr>\n",
       "  </tbody>\n",
       "</table>\n",
       "<p>5 rows × 42 columns</p>\n",
       "</div>"
      ],
      "text/plain": [
       "  UPDATED ENTRY_DATE EVENT_LCL_DATE EVENT_LCL_TIME LOC_CITY_NAME  \\\n",
       "0      No  19-FEB-16      19-FEB-16      00:45:00Z    MARSHVILLE   \n",
       "1      No  19-FEB-16      18-FEB-16      23:55:00Z     TAVERNIER   \n",
       "2      No  19-FEB-16      18-FEB-16      22:14:00Z       TRENTON   \n",
       "3      No  19-FEB-16      18-FEB-16      17:10:00Z     ASHEVILLE   \n",
       "4      No  19-FEB-16      18-FEB-16      00:26:00Z     TALKEETNA   \n",
       "\n",
       "   LOC_STATE_NAME LOC_CNTRY_NAME  \\\n",
       "0  North Carolina            NaN   \n",
       "1         Florida            NaN   \n",
       "2      New Jersey            NaN   \n",
       "3  North Carolina            NaN   \n",
       "4          Alaska            NaN   \n",
       "\n",
       "                                            RMK_TEXT EVENT_TYPE_DESC  \\\n",
       "0  AIRCRAFT CRASHED INTO TREES, THE 1 PERSON ON B...        Accident   \n",
       "1  AIRCRAFT ON LANDING WENT OFF THE END OF THE RU...        Incident   \n",
       "2  AIRCRAFT ON FINAL SUSTAINED A BIRD STRIKE, LAN...        Incident   \n",
       "3  AIRCRAFT ON LANDING, GEAR COLLAPSED, ASHEVILLE...        Incident   \n",
       "4  AIRCRAFT ON LANDING, NOSE GEAR COLLAPSED, TALK...        Incident   \n",
       "\n",
       "                  FSDO_DESC  ... PAX_INJ_NONE PAX_INJ_MINOR PAX_INJ_SERIOUS  \\\n",
       "0     FAA Charlotte FSDO-68  ...          NaN           NaN             NaN   \n",
       "1         FAA Miami FSDO-19  ...          NaN           NaN             NaN   \n",
       "2  FAA Philadelphia FSDO-17  ...          NaN           NaN             NaN   \n",
       "3     FAA Charlotte FSDO-68  ...          NaN           NaN             NaN   \n",
       "4     FAA Anchorage FSDO-03  ...          NaN           1.0             NaN   \n",
       "\n",
       "  PAX_INJ_FATAL PAX_INJ_UNK  GRND_INJ_NONE GRND_INJ_MINOR GRND_INJ_SERIOUS  \\\n",
       "0           NaN         NaN            NaN            NaN              NaN   \n",
       "1           NaN         NaN            NaN            NaN              NaN   \n",
       "2           NaN         NaN            NaN            NaN              NaN   \n",
       "3           NaN         NaN            NaN            NaN              NaN   \n",
       "4           NaN         NaN            NaN            NaN              NaN   \n",
       "\n",
       "  GRND_INJ_FATAL  GRND_INJ_UNK  \n",
       "0            NaN           NaN  \n",
       "1            NaN           NaN  \n",
       "2            NaN           NaN  \n",
       "3            NaN           NaN  \n",
       "4            NaN           NaN  \n",
       "\n",
       "[5 rows x 42 columns]"
      ]
     },
     "execution_count": 10,
     "metadata": {},
     "output_type": "execute_result"
    }
   ],
   "source": [
    "#View the first five observations\n",
    "faa_data.head()"
   ]
  },
  {
   "cell_type": "code",
   "execution_count": 13,
   "metadata": {
    "collapsed": false,
    "jupyter": {
     "outputs_hidden": false
    }
   },
   "outputs": [
    {
     "data": {
      "text/plain": [
       "Index(['UPDATED', 'ENTRY_DATE', 'EVENT_LCL_DATE', 'EVENT_LCL_TIME',\n",
       "       'LOC_CITY_NAME', 'LOC_STATE_NAME', 'LOC_CNTRY_NAME', 'RMK_TEXT',\n",
       "       'EVENT_TYPE_DESC', 'FSDO_DESC', 'REGIST_NBR', 'FLT_NBR', 'ACFT_OPRTR',\n",
       "       'ACFT_MAKE_NAME', 'ACFT_MODEL_NAME', 'ACFT_MISSING_FLAG',\n",
       "       'ACFT_DMG_DESC', 'FLT_ACTIVITY', 'FLT_PHASE', 'FAR_PART', 'MAX_INJ_LVL',\n",
       "       'FATAL_FLAG', 'FLT_CRW_INJ_NONE', 'FLT_CRW_INJ_MINOR',\n",
       "       'FLT_CRW_INJ_SERIOUS', 'FLT_CRW_INJ_FATAL', 'FLT_CRW_INJ_UNK',\n",
       "       'CBN_CRW_INJ_NONE', 'CBN_CRW_INJ_MINOR', 'CBN_CRW_INJ_SERIOUS',\n",
       "       'CBN_CRW_INJ_FATAL', 'CBN_CRW_INJ_UNK', 'PAX_INJ_NONE', 'PAX_INJ_MINOR',\n",
       "       'PAX_INJ_SERIOUS', 'PAX_INJ_FATAL', 'PAX_INJ_UNK', 'GRND_INJ_NONE',\n",
       "       'GRND_INJ_MINOR', 'GRND_INJ_SERIOUS', 'GRND_INJ_FATAL', 'GRND_INJ_UNK'],\n",
       "      dtype='object')"
      ]
     },
     "execution_count": 13,
     "metadata": {},
     "output_type": "execute_result"
    }
   ],
   "source": [
    "#View all the columns present in the dataset\n",
    "faa_data.columns"
   ]
  },
  {
   "cell_type": "markdown",
   "metadata": {},
   "source": [
    "#### 3: Extract the following attributes from the dataset:\n",
    "1. Aircraft make name\n",
    "2. State name\n",
    "3. Aircraft model name\n",
    "4. Text information\n",
    "5. Flight phase\n",
    "6. Event description type\n",
    "7. Fatal flag"
   ]
  },
  {
   "cell_type": "code",
   "execution_count": 14,
   "metadata": {
    "tags": []
   },
   "outputs": [],
   "source": [
    "#Create a new dataframe with only the required columns\n",
    "new_data= faa_data[['ACFT_MAKE_NAME','ACFT_MODEL_NAME','LOC_STATE_NAME','RMK_TEXT','FLT_PHASE','EVENT_TYPE_DESC','FATAL_FLAG']]"
   ]
  },
  {
   "cell_type": "code",
   "execution_count": 16,
   "metadata": {
    "collapsed": false,
    "jupyter": {
     "outputs_hidden": false
    }
   },
   "outputs": [
    {
     "data": {
      "text/plain": [
       "pandas.core.frame.DataFrame"
      ]
     },
     "execution_count": 16,
     "metadata": {},
     "output_type": "execute_result"
    }
   ],
   "source": [
    "#View the type of the object\n",
    "type(new_data)"
   ]
  },
  {
   "cell_type": "code",
   "execution_count": 17,
   "metadata": {
    "collapsed": false,
    "jupyter": {
     "outputs_hidden": false
    }
   },
   "outputs": [
    {
     "data": {
      "text/html": [
       "<div>\n",
       "<style scoped>\n",
       "    .dataframe tbody tr th:only-of-type {\n",
       "        vertical-align: middle;\n",
       "    }\n",
       "\n",
       "    .dataframe tbody tr th {\n",
       "        vertical-align: top;\n",
       "    }\n",
       "\n",
       "    .dataframe thead th {\n",
       "        text-align: right;\n",
       "    }\n",
       "</style>\n",
       "<table border=\"1\" class=\"dataframe\">\n",
       "  <thead>\n",
       "    <tr style=\"text-align: right;\">\n",
       "      <th></th>\n",
       "      <th>ACFT_MAKE_NAME</th>\n",
       "      <th>ACFT_MODEL_NAME</th>\n",
       "      <th>LOC_STATE_NAME</th>\n",
       "      <th>RMK_TEXT</th>\n",
       "      <th>FLT_PHASE</th>\n",
       "      <th>EVENT_TYPE_DESC</th>\n",
       "      <th>FATAL_FLAG</th>\n",
       "    </tr>\n",
       "  </thead>\n",
       "  <tbody>\n",
       "    <tr>\n",
       "      <th>0</th>\n",
       "      <td>BEECH</td>\n",
       "      <td>36</td>\n",
       "      <td>North Carolina</td>\n",
       "      <td>AIRCRAFT CRASHED INTO TREES, THE 1 PERSON ON B...</td>\n",
       "      <td>UNKNOWN (UNK)</td>\n",
       "      <td>Accident</td>\n",
       "      <td>Yes</td>\n",
       "    </tr>\n",
       "    <tr>\n",
       "      <th>1</th>\n",
       "      <td>VANS</td>\n",
       "      <td>RV7</td>\n",
       "      <td>Florida</td>\n",
       "      <td>AIRCRAFT ON LANDING WENT OFF THE END OF THE RU...</td>\n",
       "      <td>LANDING (LDG)</td>\n",
       "      <td>Incident</td>\n",
       "      <td>NaN</td>\n",
       "    </tr>\n",
       "    <tr>\n",
       "      <th>2</th>\n",
       "      <td>CESSNA</td>\n",
       "      <td>172</td>\n",
       "      <td>New Jersey</td>\n",
       "      <td>AIRCRAFT ON FINAL SUSTAINED A BIRD STRIKE, LAN...</td>\n",
       "      <td>APPROACH (APR)</td>\n",
       "      <td>Incident</td>\n",
       "      <td>NaN</td>\n",
       "    </tr>\n",
       "    <tr>\n",
       "      <th>3</th>\n",
       "      <td>LANCAIR</td>\n",
       "      <td>235</td>\n",
       "      <td>North Carolina</td>\n",
       "      <td>AIRCRAFT ON LANDING, GEAR COLLAPSED, ASHEVILLE...</td>\n",
       "      <td>LANDING (LDG)</td>\n",
       "      <td>Incident</td>\n",
       "      <td>NaN</td>\n",
       "    </tr>\n",
       "    <tr>\n",
       "      <th>4</th>\n",
       "      <td>CESSNA</td>\n",
       "      <td>172</td>\n",
       "      <td>Alaska</td>\n",
       "      <td>AIRCRAFT ON LANDING, NOSE GEAR COLLAPSED, TALK...</td>\n",
       "      <td>LANDING (LDG)</td>\n",
       "      <td>Incident</td>\n",
       "      <td>NaN</td>\n",
       "    </tr>\n",
       "  </tbody>\n",
       "</table>\n",
       "</div>"
      ],
      "text/plain": [
       "  ACFT_MAKE_NAME ACFT_MODEL_NAME  LOC_STATE_NAME  \\\n",
       "0          BEECH              36  North Carolina   \n",
       "1           VANS             RV7         Florida   \n",
       "2         CESSNA             172      New Jersey   \n",
       "3        LANCAIR             235  North Carolina   \n",
       "4         CESSNA             172          Alaska   \n",
       "\n",
       "                                            RMK_TEXT       FLT_PHASE  \\\n",
       "0  AIRCRAFT CRASHED INTO TREES, THE 1 PERSON ON B...   UNKNOWN (UNK)   \n",
       "1  AIRCRAFT ON LANDING WENT OFF THE END OF THE RU...   LANDING (LDG)   \n",
       "2  AIRCRAFT ON FINAL SUSTAINED A BIRD STRIKE, LAN...  APPROACH (APR)   \n",
       "3  AIRCRAFT ON LANDING, GEAR COLLAPSED, ASHEVILLE...   LANDING (LDG)   \n",
       "4  AIRCRAFT ON LANDING, NOSE GEAR COLLAPSED, TALK...   LANDING (LDG)   \n",
       "\n",
       "  EVENT_TYPE_DESC FATAL_FLAG  \n",
       "0        Accident        Yes  \n",
       "1        Incident        NaN  \n",
       "2        Incident        NaN  \n",
       "3        Incident        NaN  \n",
       "4        Incident        NaN  "
      ]
     },
     "execution_count": 17,
     "metadata": {},
     "output_type": "execute_result"
    }
   ],
   "source": [
    "#Check if the dataframe contains all the required attributes\n",
    "new_data.head()"
   ]
  },
  {
   "cell_type": "markdown",
   "metadata": {},
   "source": [
    "#### 4. Clean the dataset and replace the fatal flag NaN with “No”\n"
   ]
  },
  {
   "cell_type": "code",
   "execution_count": 18,
   "metadata": {
    "collapsed": false,
    "jupyter": {
     "outputs_hidden": false
    }
   },
   "outputs": [
    {
     "name": "stderr",
     "output_type": "stream",
     "text": [
      "C:\\Users\\Naina\\anaconda3\\lib\\site-packages\\pandas\\core\\generic.py:6392: SettingWithCopyWarning: \n",
      "A value is trying to be set on a copy of a slice from a DataFrame\n",
      "\n",
      "See the caveats in the documentation: https://pandas.pydata.org/pandas-docs/stable/user_guide/indexing.html#returning-a-view-versus-a-copy\n",
      "  return self._update_inplace(result)\n"
     ]
    }
   ],
   "source": [
    "#Replace all Fatal Flag missing values with the required output\n",
    "new_data['FATAL_FLAG'].fillna(value=\"No\", inplace=True)"
   ]
  },
  {
   "cell_type": "code",
   "execution_count": 19,
   "metadata": {
    "collapsed": false,
    "jupyter": {
     "outputs_hidden": false
    }
   },
   "outputs": [
    {
     "data": {
      "text/html": [
       "<div>\n",
       "<style scoped>\n",
       "    .dataframe tbody tr th:only-of-type {\n",
       "        vertical-align: middle;\n",
       "    }\n",
       "\n",
       "    .dataframe tbody tr th {\n",
       "        vertical-align: top;\n",
       "    }\n",
       "\n",
       "    .dataframe thead th {\n",
       "        text-align: right;\n",
       "    }\n",
       "</style>\n",
       "<table border=\"1\" class=\"dataframe\">\n",
       "  <thead>\n",
       "    <tr style=\"text-align: right;\">\n",
       "      <th></th>\n",
       "      <th>ACFT_MAKE_NAME</th>\n",
       "      <th>ACFT_MODEL_NAME</th>\n",
       "      <th>LOC_STATE_NAME</th>\n",
       "      <th>RMK_TEXT</th>\n",
       "      <th>FLT_PHASE</th>\n",
       "      <th>EVENT_TYPE_DESC</th>\n",
       "      <th>FATAL_FLAG</th>\n",
       "    </tr>\n",
       "  </thead>\n",
       "  <tbody>\n",
       "    <tr>\n",
       "      <th>0</th>\n",
       "      <td>BEECH</td>\n",
       "      <td>36</td>\n",
       "      <td>North Carolina</td>\n",
       "      <td>AIRCRAFT CRASHED INTO TREES, THE 1 PERSON ON B...</td>\n",
       "      <td>UNKNOWN (UNK)</td>\n",
       "      <td>Accident</td>\n",
       "      <td>Yes</td>\n",
       "    </tr>\n",
       "    <tr>\n",
       "      <th>1</th>\n",
       "      <td>VANS</td>\n",
       "      <td>RV7</td>\n",
       "      <td>Florida</td>\n",
       "      <td>AIRCRAFT ON LANDING WENT OFF THE END OF THE RU...</td>\n",
       "      <td>LANDING (LDG)</td>\n",
       "      <td>Incident</td>\n",
       "      <td>No</td>\n",
       "    </tr>\n",
       "    <tr>\n",
       "      <th>2</th>\n",
       "      <td>CESSNA</td>\n",
       "      <td>172</td>\n",
       "      <td>New Jersey</td>\n",
       "      <td>AIRCRAFT ON FINAL SUSTAINED A BIRD STRIKE, LAN...</td>\n",
       "      <td>APPROACH (APR)</td>\n",
       "      <td>Incident</td>\n",
       "      <td>No</td>\n",
       "    </tr>\n",
       "    <tr>\n",
       "      <th>3</th>\n",
       "      <td>LANCAIR</td>\n",
       "      <td>235</td>\n",
       "      <td>North Carolina</td>\n",
       "      <td>AIRCRAFT ON LANDING, GEAR COLLAPSED, ASHEVILLE...</td>\n",
       "      <td>LANDING (LDG)</td>\n",
       "      <td>Incident</td>\n",
       "      <td>No</td>\n",
       "    </tr>\n",
       "    <tr>\n",
       "      <th>4</th>\n",
       "      <td>CESSNA</td>\n",
       "      <td>172</td>\n",
       "      <td>Alaska</td>\n",
       "      <td>AIRCRAFT ON LANDING, NOSE GEAR COLLAPSED, TALK...</td>\n",
       "      <td>LANDING (LDG)</td>\n",
       "      <td>Incident</td>\n",
       "      <td>No</td>\n",
       "    </tr>\n",
       "    <tr>\n",
       "      <th>...</th>\n",
       "      <td>...</td>\n",
       "      <td>...</td>\n",
       "      <td>...</td>\n",
       "      <td>...</td>\n",
       "      <td>...</td>\n",
       "      <td>...</td>\n",
       "      <td>...</td>\n",
       "    </tr>\n",
       "    <tr>\n",
       "      <th>78</th>\n",
       "      <td>AERONCA</td>\n",
       "      <td>O58B</td>\n",
       "      <td>Texas</td>\n",
       "      <td>AIRCRAFT ON LANDING, GROUND LOOPED, BULVERDE A...</td>\n",
       "      <td>LANDING (LDG)</td>\n",
       "      <td>Accident</td>\n",
       "      <td>No</td>\n",
       "    </tr>\n",
       "    <tr>\n",
       "      <th>79</th>\n",
       "      <td>NORTH AMERICAN</td>\n",
       "      <td>F51</td>\n",
       "      <td>Arizona</td>\n",
       "      <td>AIRCRAFT CRASHED UNDER UNKNOWN CIRCUMSTANCES, ...</td>\n",
       "      <td>UNKNOWN (UNK)</td>\n",
       "      <td>Accident</td>\n",
       "      <td>Yes</td>\n",
       "    </tr>\n",
       "    <tr>\n",
       "      <th>80</th>\n",
       "      <td>CHAMPION</td>\n",
       "      <td>8KCAB</td>\n",
       "      <td>California</td>\n",
       "      <td>N9872R, BEECH M35 AIRCRAFT, AND N5057G, BELLAN...</td>\n",
       "      <td>UNKNOWN (UNK)</td>\n",
       "      <td>Accident</td>\n",
       "      <td>Yes</td>\n",
       "    </tr>\n",
       "    <tr>\n",
       "      <th>81</th>\n",
       "      <td>BEECH</td>\n",
       "      <td>35</td>\n",
       "      <td>California</td>\n",
       "      <td>N9872R, BEECH M35 AIRCRAFT, AND N5057G, BELLAN...</td>\n",
       "      <td>UNKNOWN (UNK)</td>\n",
       "      <td>Accident</td>\n",
       "      <td>Yes</td>\n",
       "    </tr>\n",
       "    <tr>\n",
       "      <th>82</th>\n",
       "      <td>CESSNA</td>\n",
       "      <td>182</td>\n",
       "      <td>Alabama</td>\n",
       "      <td>N784CP AIRCRAFT CRASHED INTO A WOODED AREA NEA...</td>\n",
       "      <td>UNKNOWN (UNK)</td>\n",
       "      <td>Accident</td>\n",
       "      <td>Yes</td>\n",
       "    </tr>\n",
       "  </tbody>\n",
       "</table>\n",
       "<p>83 rows × 7 columns</p>\n",
       "</div>"
      ],
      "text/plain": [
       "    ACFT_MAKE_NAME ACFT_MODEL_NAME  LOC_STATE_NAME  \\\n",
       "0            BEECH              36  North Carolina   \n",
       "1             VANS             RV7         Florida   \n",
       "2           CESSNA             172      New Jersey   \n",
       "3          LANCAIR             235  North Carolina   \n",
       "4           CESSNA             172          Alaska   \n",
       "..             ...             ...             ...   \n",
       "78         AERONCA            O58B           Texas   \n",
       "79  NORTH AMERICAN             F51         Arizona   \n",
       "80        CHAMPION           8KCAB      California   \n",
       "81           BEECH              35      California   \n",
       "82          CESSNA             182         Alabama   \n",
       "\n",
       "                                             RMK_TEXT       FLT_PHASE  \\\n",
       "0   AIRCRAFT CRASHED INTO TREES, THE 1 PERSON ON B...   UNKNOWN (UNK)   \n",
       "1   AIRCRAFT ON LANDING WENT OFF THE END OF THE RU...   LANDING (LDG)   \n",
       "2   AIRCRAFT ON FINAL SUSTAINED A BIRD STRIKE, LAN...  APPROACH (APR)   \n",
       "3   AIRCRAFT ON LANDING, GEAR COLLAPSED, ASHEVILLE...   LANDING (LDG)   \n",
       "4   AIRCRAFT ON LANDING, NOSE GEAR COLLAPSED, TALK...   LANDING (LDG)   \n",
       "..                                                ...             ...   \n",
       "78  AIRCRAFT ON LANDING, GROUND LOOPED, BULVERDE A...   LANDING (LDG)   \n",
       "79  AIRCRAFT CRASHED UNDER UNKNOWN CIRCUMSTANCES, ...   UNKNOWN (UNK)   \n",
       "80  N9872R, BEECH M35 AIRCRAFT, AND N5057G, BELLAN...   UNKNOWN (UNK)   \n",
       "81  N9872R, BEECH M35 AIRCRAFT, AND N5057G, BELLAN...   UNKNOWN (UNK)   \n",
       "82  N784CP AIRCRAFT CRASHED INTO A WOODED AREA NEA...   UNKNOWN (UNK)   \n",
       "\n",
       "   EVENT_TYPE_DESC FATAL_FLAG  \n",
       "0         Accident        Yes  \n",
       "1         Incident         No  \n",
       "2         Incident         No  \n",
       "3         Incident         No  \n",
       "4         Incident         No  \n",
       "..             ...        ...  \n",
       "78        Accident         No  \n",
       "79        Accident        Yes  \n",
       "80        Accident        Yes  \n",
       "81        Accident        Yes  \n",
       "82        Accident        Yes  \n",
       "\n",
       "[83 rows x 7 columns]"
      ]
     },
     "execution_count": 19,
     "metadata": {},
     "output_type": "execute_result"
    }
   ],
   "source": [
    "#Verify if the missing values are replaced\n",
    "new_data"
   ]
  },
  {
   "cell_type": "code",
   "execution_count": 20,
   "metadata": {
    "collapsed": false,
    "jupyter": {
     "outputs_hidden": false
    }
   },
   "outputs": [
    {
     "data": {
      "text/plain": [
       "(83, 7)"
      ]
     },
     "execution_count": 20,
     "metadata": {},
     "output_type": "execute_result"
    }
   ],
   "source": [
    "#Check the number of observations\n",
    "new_data.shape\n"
   ]
  },
  {
   "cell_type": "markdown",
   "metadata": {},
   "source": [
    "#### 5. Remove all the observations where aircraft names are not available"
   ]
  },
  {
   "cell_type": "code",
   "execution_count": 23,
   "metadata": {
    "collapsed": false,
    "jupyter": {
     "outputs_hidden": false
    }
   },
   "outputs": [],
   "source": [
    "#Drop the unwanted values/observations from the dataset\n",
    "new_faa_data= new_data.dropna(subset=['ACFT_MAKE_NAME'])"
   ]
  },
  {
   "cell_type": "markdown",
   "metadata": {},
   "source": [
    "#### 6. Find the aircraft types and their occurrences in the dataset"
   ]
  },
  {
   "cell_type": "code",
   "execution_count": 24,
   "metadata": {
    "collapsed": false,
    "jupyter": {
     "outputs_hidden": false
    }
   },
   "outputs": [
    {
     "data": {
      "text/plain": [
       "(78, 7)"
      ]
     },
     "execution_count": 24,
     "metadata": {},
     "output_type": "execute_result"
    }
   ],
   "source": [
    "#Check the number of observations now to compare it with the original dataset and see how many values have been dropped\n",
    "new_faa_data.shape"
   ]
  },
  {
   "cell_type": "code",
   "execution_count": 25,
   "metadata": {
    "collapsed": false,
    "jupyter": {
     "outputs_hidden": false
    }
   },
   "outputs": [],
   "source": [
    "#Group the dataset by aircraft name\n",
    "aircraftType= new_faa_data.groupby('ACFT_MAKE_NAME')"
   ]
  },
  {
   "cell_type": "code",
   "execution_count": 26,
   "metadata": {
    "collapsed": false,
    "jupyter": {
     "outputs_hidden": false
    }
   },
   "outputs": [
    {
     "data": {
      "text/plain": [
       "ACFT_MAKE_NAME\n",
       "AERO COMMANDER             1\n",
       "AERONCA                    1\n",
       "AEROSTAR INTERNATIONAL     1\n",
       "AIRBUS                     1\n",
       "BEECH                      9\n",
       "BELL                       2\n",
       "BOEING                     3\n",
       "CESSNA                    23\n",
       "CHAMPION                   2\n",
       "CHRISTEN                   1\n",
       "CONSOLIDATED VULTEE        1\n",
       "EMBRAER                    1\n",
       "ENSTROM                    1\n",
       "FAIRCHILD                  1\n",
       "FLIGHT DESIGN              1\n",
       "GLOBE                      1\n",
       "GREAT LAKES                1\n",
       "GRUMMAN                    1\n",
       "GULFSTREAM                 1\n",
       "HUGHES                     1\n",
       "LANCAIR                    2\n",
       "MAULE                      1\n",
       "MOONEY                     4\n",
       "NORTH AMERICAN             1\n",
       "PIPER                     10\n",
       "PITTS                      1\n",
       "SAAB                       1\n",
       "SABRELINER                 1\n",
       "SOCATA                     2\n",
       "VANS                       1\n",
       "dtype: int64"
      ]
     },
     "execution_count": 26,
     "metadata": {},
     "output_type": "execute_result"
    }
   ],
   "source": [
    "#View the number of times each aircraft type appears in the dataset (Hint: use the size() method)\n",
    "aircraftType.size()"
   ]
  },
  {
   "cell_type": "markdown",
   "metadata": {},
   "source": [
    "#### 7: Display the observations where fatal flag is “Yes”"
   ]
  },
  {
   "cell_type": "code",
   "execution_count": 27,
   "metadata": {
    "tags": []
   },
   "outputs": [],
   "source": [
    "#Group the dataset by fatal flag\n",
    "fatalflag= new_faa_data.groupby('FATAL_FLAG')"
   ]
  },
  {
   "cell_type": "code",
   "execution_count": 28,
   "metadata": {
    "collapsed": false,
    "jupyter": {
     "outputs_hidden": false
    }
   },
   "outputs": [
    {
     "data": {
      "text/plain": [
       "FATAL_FLAG\n",
       "No     71\n",
       "Yes     7\n",
       "dtype: int64"
      ]
     },
     "execution_count": 28,
     "metadata": {},
     "output_type": "execute_result"
    }
   ],
   "source": [
    "#View the total number of fatal and non-fatal accidents\n",
    "fatalflag.size()"
   ]
  },
  {
   "cell_type": "code",
   "execution_count": 29,
   "metadata": {
    "tags": []
   },
   "outputs": [],
   "source": [
    "#Create a new dataframe to view only the fatal accidents (Fatal Flag values = Yes)\n",
    "fatal_data= fatalflag.get_group('Yes')"
   ]
  },
  {
   "cell_type": "code",
   "execution_count": 30,
   "metadata": {},
   "outputs": [
    {
     "data": {
      "text/html": [
       "<div>\n",
       "<style scoped>\n",
       "    .dataframe tbody tr th:only-of-type {\n",
       "        vertical-align: middle;\n",
       "    }\n",
       "\n",
       "    .dataframe tbody tr th {\n",
       "        vertical-align: top;\n",
       "    }\n",
       "\n",
       "    .dataframe thead th {\n",
       "        text-align: right;\n",
       "    }\n",
       "</style>\n",
       "<table border=\"1\" class=\"dataframe\">\n",
       "  <thead>\n",
       "    <tr style=\"text-align: right;\">\n",
       "      <th></th>\n",
       "      <th>ACFT_MAKE_NAME</th>\n",
       "      <th>ACFT_MODEL_NAME</th>\n",
       "      <th>LOC_STATE_NAME</th>\n",
       "      <th>RMK_TEXT</th>\n",
       "      <th>FLT_PHASE</th>\n",
       "      <th>EVENT_TYPE_DESC</th>\n",
       "      <th>FATAL_FLAG</th>\n",
       "    </tr>\n",
       "  </thead>\n",
       "  <tbody>\n",
       "    <tr>\n",
       "      <th>0</th>\n",
       "      <td>BEECH</td>\n",
       "      <td>36</td>\n",
       "      <td>North Carolina</td>\n",
       "      <td>AIRCRAFT CRASHED INTO TREES, THE 1 PERSON ON B...</td>\n",
       "      <td>UNKNOWN (UNK)</td>\n",
       "      <td>Accident</td>\n",
       "      <td>Yes</td>\n",
       "    </tr>\n",
       "    <tr>\n",
       "      <th>53</th>\n",
       "      <td>PIPER</td>\n",
       "      <td>PA28</td>\n",
       "      <td>Florida</td>\n",
       "      <td>AIRCRAFT CRASHED UNDER UNKNOWN CIRCUMSTANCES. ...</td>\n",
       "      <td>UNKNOWN (UNK)</td>\n",
       "      <td>Accident</td>\n",
       "      <td>Yes</td>\n",
       "    </tr>\n",
       "    <tr>\n",
       "      <th>55</th>\n",
       "      <td>FLIGHT DESIGN</td>\n",
       "      <td>CTLS</td>\n",
       "      <td>California</td>\n",
       "      <td>AIRCRAFT CRASHED UNDER UNKNOWN CIRCUMSTANCES A...</td>\n",
       "      <td>UNKNOWN (UNK)</td>\n",
       "      <td>Accident</td>\n",
       "      <td>Yes</td>\n",
       "    </tr>\n",
       "    <tr>\n",
       "      <th>79</th>\n",
       "      <td>NORTH AMERICAN</td>\n",
       "      <td>F51</td>\n",
       "      <td>Arizona</td>\n",
       "      <td>AIRCRAFT CRASHED UNDER UNKNOWN CIRCUMSTANCES, ...</td>\n",
       "      <td>UNKNOWN (UNK)</td>\n",
       "      <td>Accident</td>\n",
       "      <td>Yes</td>\n",
       "    </tr>\n",
       "    <tr>\n",
       "      <th>80</th>\n",
       "      <td>CHAMPION</td>\n",
       "      <td>8KCAB</td>\n",
       "      <td>California</td>\n",
       "      <td>N9872R, BEECH M35 AIRCRAFT, AND N5057G, BELLAN...</td>\n",
       "      <td>UNKNOWN (UNK)</td>\n",
       "      <td>Accident</td>\n",
       "      <td>Yes</td>\n",
       "    </tr>\n",
       "    <tr>\n",
       "      <th>81</th>\n",
       "      <td>BEECH</td>\n",
       "      <td>35</td>\n",
       "      <td>California</td>\n",
       "      <td>N9872R, BEECH M35 AIRCRAFT, AND N5057G, BELLAN...</td>\n",
       "      <td>UNKNOWN (UNK)</td>\n",
       "      <td>Accident</td>\n",
       "      <td>Yes</td>\n",
       "    </tr>\n",
       "    <tr>\n",
       "      <th>82</th>\n",
       "      <td>CESSNA</td>\n",
       "      <td>182</td>\n",
       "      <td>Alabama</td>\n",
       "      <td>N784CP AIRCRAFT CRASHED INTO A WOODED AREA NEA...</td>\n",
       "      <td>UNKNOWN (UNK)</td>\n",
       "      <td>Accident</td>\n",
       "      <td>Yes</td>\n",
       "    </tr>\n",
       "  </tbody>\n",
       "</table>\n",
       "</div>"
      ],
      "text/plain": [
       "    ACFT_MAKE_NAME ACFT_MODEL_NAME  LOC_STATE_NAME  \\\n",
       "0            BEECH              36  North Carolina   \n",
       "53           PIPER            PA28         Florida   \n",
       "55   FLIGHT DESIGN            CTLS      California   \n",
       "79  NORTH AMERICAN             F51         Arizona   \n",
       "80        CHAMPION           8KCAB      California   \n",
       "81           BEECH              35      California   \n",
       "82          CESSNA             182         Alabama   \n",
       "\n",
       "                                             RMK_TEXT      FLT_PHASE  \\\n",
       "0   AIRCRAFT CRASHED INTO TREES, THE 1 PERSON ON B...  UNKNOWN (UNK)   \n",
       "53  AIRCRAFT CRASHED UNDER UNKNOWN CIRCUMSTANCES. ...  UNKNOWN (UNK)   \n",
       "55  AIRCRAFT CRASHED UNDER UNKNOWN CIRCUMSTANCES A...  UNKNOWN (UNK)   \n",
       "79  AIRCRAFT CRASHED UNDER UNKNOWN CIRCUMSTANCES, ...  UNKNOWN (UNK)   \n",
       "80  N9872R, BEECH M35 AIRCRAFT, AND N5057G, BELLAN...  UNKNOWN (UNK)   \n",
       "81  N9872R, BEECH M35 AIRCRAFT, AND N5057G, BELLAN...  UNKNOWN (UNK)   \n",
       "82  N784CP AIRCRAFT CRASHED INTO A WOODED AREA NEA...  UNKNOWN (UNK)   \n",
       "\n",
       "   EVENT_TYPE_DESC FATAL_FLAG  \n",
       "0         Accident        Yes  \n",
       "53        Accident        Yes  \n",
       "55        Accident        Yes  \n",
       "79        Accident        Yes  \n",
       "80        Accident        Yes  \n",
       "81        Accident        Yes  \n",
       "82        Accident        Yes  "
      ]
     },
     "execution_count": 30,
     "metadata": {},
     "output_type": "execute_result"
    }
   ],
   "source": [
    "fatal_data"
   ]
  }
 ],
 "metadata": {
  "kernelspec": {
   "display_name": "Python 3 (ipykernel)",
   "language": "python",
   "name": "python3"
  },
  "language_info": {
   "codemirror_mode": {
    "name": "ipython",
    "version": 3
   },
   "file_extension": ".py",
   "mimetype": "text/x-python",
   "name": "python",
   "nbconvert_exporter": "python",
   "pygments_lexer": "ipython3",
   "version": "3.9.7"
  }
 },
 "nbformat": 4,
 "nbformat_minor": 4
}
