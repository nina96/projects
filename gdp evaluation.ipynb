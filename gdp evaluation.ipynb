{
 "cells": [
  {
   "cell_type": "markdown",
   "metadata": {},
   "source": [
    "<img src=\"http://cfs22.simplicdn.net/ice9/new_logo.svgz \"/>\n",
    "\n",
    "# Assignment 01: Evaluate the GDP Dataset\n",
    "\n",
    "*The comments/sections provided are your cues to perform the assignment. You don't need to limit yourself to the number of rows/cells provided. You can add additional rows in each section to add more lines of code.*\n",
    "\n",
    "*If at any point in time you need help on solving this assignment, view our demo video to understand the different steps of the code.*\n",
    "\n",
    "**Happy coding!**\n",
    "\n",
    "* * *"
   ]
  },
  {
   "cell_type": "markdown",
   "metadata": {},
   "source": [
    "#### 1: View and add the dataset"
   ]
  },
  {
   "cell_type": "code",
   "execution_count": 2,
   "metadata": {
    "tags": []
   },
   "outputs": [],
   "source": [
    "#Import required library\n",
    "import numpy as np"
   ]
  },
  {
   "cell_type": "code",
   "execution_count": 3,
   "metadata": {
    "tags": []
   },
   "outputs": [],
   "source": [
    "#Manually add the dataset\n",
    "countries=np.array(['Algeria','Angola','Argentina','Australia','Austria','Bahamas','Bangladesh','Belarus','Belgium','Bhutan','Brazil','Bulgaria','Cambodia','Cameroon','Chile','China','Colombia','Cyprus','Denmark','El Salvador','Estonia','Ethiopia','Fiji','Finland','France','Georgia','Ghana','Grenada','Guinea','Haiti','Honduras','Hungary','India','Indonesia','Ireland','Italy','Japan','Kenya', 'South Korea','Liberia','Malaysia','Mexico', 'Morocco','Nepal','New Zealand','Norway','Pakistan', 'Peru','Qatar','Russia','Singapore','South Africa','Spain','Sweden','Switzerland','Thailand', 'United Arab Emirates','United Kingdom','United States','Uruguay','Venezuela','Vietnam','Zimbabwe'])\n",
    "gdp=np.array([2255.225482,629.9553062,11601.63022,25306.82494,27266.40335,19466.99052,588.3691778,2890.345675,24733.62696,1445.760002,4803.398244,2618.876037,590.4521124,665.7982328,7122.938458,2639.54156,3362.4656,15378.16704,30860.12808,2579.115607,6525.541272,229.6769525,2242.689259,27570.4852,23016.84778,1334.646773,402.6953275,6047.200797,394.1156638,385.5793827,1414.072488,5745.981529,837.7464011,1206.991065,27715.52837,18937.24998,39578.07441,478.2194906,16684.21278,279.2204061,5345.213415,6288.25324,1908.304416,274.8728621,14646.42094,40034.85063,672.1547506,3359.517402,36152.66676,3054.727742,33529.83052,3825.093781,15428.32098,33630.24604,39170.41371,2699.123242,21058.43643,28272.40661,37691.02733,9581.05659,5671.912202,757.4009286,347.7456605])\n"
   ]
  },
  {
   "cell_type": "markdown",
   "metadata": {},
   "source": [
    "#### 2: Find and print the name of the country with the highest GDP"
   ]
  },
  {
   "cell_type": "code",
   "execution_count": 4,
   "metadata": {
    "collapsed": false,
    "jupyter": {
     "outputs_hidden": false
    }
   },
   "outputs": [],
   "source": [
    "#Use the argmax() method to find the highest GDP\n",
    "max_gdp= gdp.argmax()"
   ]
  },
  {
   "cell_type": "code",
   "execution_count": 5,
   "metadata": {
    "tags": []
   },
   "outputs": [
    {
     "data": {
      "text/plain": [
       "'Norway'"
      ]
     },
     "execution_count": 5,
     "metadata": {},
     "output_type": "execute_result"
    }
   ],
   "source": [
    "#Print the name of the country\n",
    "countries_max= countries[max_gdp]\n",
    "countries_max"
   ]
  },
  {
   "cell_type": "markdown",
   "metadata": {},
   "source": [
    "#### 3: Find and print the name of the country with the lowest GDP"
   ]
  },
  {
   "cell_type": "code",
   "execution_count": 6,
   "metadata": {
    "tags": []
   },
   "outputs": [],
   "source": [
    "#Use the argmin() method to find the lowest GDP\n",
    "min_gdp=gdp.argmin()"
   ]
  },
  {
   "cell_type": "code",
   "execution_count": 7,
   "metadata": {
    "tags": []
   },
   "outputs": [
    {
     "data": {
      "text/plain": [
       "'Ethiopia'"
      ]
     },
     "execution_count": 7,
     "metadata": {},
     "output_type": "execute_result"
    }
   ],
   "source": [
    "#Print the name of the country\n",
    "countires_min=countries[min_gdp]\n",
    "countires_min"
   ]
  },
  {
   "cell_type": "markdown",
   "metadata": {},
   "source": [
    "#### 4: Print out text ('evaluating country') and input value ('country name') iteratively"
   ]
  },
  {
   "cell_type": "code",
   "execution_count": 9,
   "metadata": {
    "collapsed": false,
    "jupyter": {
     "outputs_hidden": false
    }
   },
   "outputs": [
    {
     "name": "stdout",
     "output_type": "stream",
     "text": [
      "Evaluating country Algeria\n",
      "Evaluating country Angola\n",
      "Evaluating country Argentina\n",
      "Evaluating country Australia\n",
      "Evaluating country Austria\n",
      "Evaluating country Bahamas\n",
      "Evaluating country Bangladesh\n",
      "Evaluating country Belarus\n",
      "Evaluating country Belgium\n",
      "Evaluating country Bhutan\n",
      "Evaluating country Brazil\n",
      "Evaluating country Bulgaria\n",
      "Evaluating country Cambodia\n",
      "Evaluating country Cameroon\n",
      "Evaluating country Chile\n",
      "Evaluating country China\n",
      "Evaluating country Colombia\n",
      "Evaluating country Cyprus\n",
      "Evaluating country Denmark\n",
      "Evaluating country El Salvador\n",
      "Evaluating country Estonia\n",
      "Evaluating country Ethiopia\n",
      "Evaluating country Fiji\n",
      "Evaluating country Finland\n",
      "Evaluating country France\n",
      "Evaluating country Georgia\n",
      "Evaluating country Ghana\n",
      "Evaluating country Grenada\n",
      "Evaluating country Guinea\n",
      "Evaluating country Haiti\n",
      "Evaluating country Honduras\n",
      "Evaluating country Hungary\n",
      "Evaluating country India\n",
      "Evaluating country Indonesia\n",
      "Evaluating country Ireland\n",
      "Evaluating country Italy\n",
      "Evaluating country Japan\n",
      "Evaluating country Kenya\n",
      "Evaluating country South Korea\n",
      "Evaluating country Liberia\n",
      "Evaluating country Malaysia\n",
      "Evaluating country Mexico\n",
      "Evaluating country Morocco\n",
      "Evaluating country Nepal\n",
      "Evaluating country New Zealand\n",
      "Evaluating country Norway\n",
      "Evaluating country Pakistan\n",
      "Evaluating country Peru\n",
      "Evaluating country Qatar\n",
      "Evaluating country Russia\n",
      "Evaluating country Singapore\n",
      "Evaluating country South Africa\n",
      "Evaluating country Spain\n",
      "Evaluating country Sweden\n",
      "Evaluating country Switzerland\n",
      "Evaluating country Thailand\n",
      "Evaluating country United Arab Emirates\n",
      "Evaluating country United Kingdom\n",
      "Evaluating country United States\n",
      "Evaluating country Uruguay\n",
      "Evaluating country Venezuela\n",
      "Evaluating country Vietnam\n",
      "Evaluating country Zimbabwe\n"
     ]
    }
   ],
   "source": [
    "#Use a for loop to print the required output\n",
    "for country in countries:\n",
    "    print ('Evaluating country {}'. format(country))"
   ]
  },
  {
   "cell_type": "markdown",
   "metadata": {},
   "source": [
    "#### 5: Print out the entire list of the countries with their GDPs"
   ]
  },
  {
   "cell_type": "code",
   "execution_count": 10,
   "metadata": {
    "collapsed": false,
    "jupyter": {
     "outputs_hidden": false
    }
   },
   "outputs": [
    {
     "name": "stdout",
     "output_type": "stream",
     "text": [
      "Country Algeria per capita gdp is 2255.225482\n",
      "Country Angola per capita gdp is 629.9553062\n",
      "Country Argentina per capita gdp is 11601.63022\n",
      "Country Australia per capita gdp is 25306.82494\n",
      "Country Austria per capita gdp is 27266.40335\n",
      "Country Bahamas per capita gdp is 19466.99052\n",
      "Country Bangladesh per capita gdp is 588.3691778\n",
      "Country Belarus per capita gdp is 2890.345675\n",
      "Country Belgium per capita gdp is 24733.62696\n",
      "Country Bhutan per capita gdp is 1445.760002\n",
      "Country Brazil per capita gdp is 4803.398244\n",
      "Country Bulgaria per capita gdp is 2618.876037\n",
      "Country Cambodia per capita gdp is 590.4521124\n",
      "Country Cameroon per capita gdp is 665.7982328\n",
      "Country Chile per capita gdp is 7122.938458\n",
      "Country China per capita gdp is 2639.54156\n",
      "Country Colombia per capita gdp is 3362.4656\n",
      "Country Cyprus per capita gdp is 15378.16704\n",
      "Country Denmark per capita gdp is 30860.12808\n",
      "Country El Salvador per capita gdp is 2579.115607\n",
      "Country Estonia per capita gdp is 6525.541272\n",
      "Country Ethiopia per capita gdp is 229.6769525\n",
      "Country Fiji per capita gdp is 2242.689259\n",
      "Country Finland per capita gdp is 27570.4852\n",
      "Country France per capita gdp is 23016.84778\n",
      "Country Georgia per capita gdp is 1334.646773\n",
      "Country Ghana per capita gdp is 402.6953275\n",
      "Country Grenada per capita gdp is 6047.200797\n",
      "Country Guinea per capita gdp is 394.1156638\n",
      "Country Haiti per capita gdp is 385.5793827\n",
      "Country Honduras per capita gdp is 1414.072488\n",
      "Country Hungary per capita gdp is 5745.981529\n",
      "Country India per capita gdp is 837.7464011\n",
      "Country Indonesia per capita gdp is 1206.991065\n",
      "Country Ireland per capita gdp is 27715.52837\n",
      "Country Italy per capita gdp is 18937.24998\n",
      "Country Japan per capita gdp is 39578.07441\n",
      "Country Kenya per capita gdp is 478.2194906\n",
      "Country South Korea per capita gdp is 16684.21278\n",
      "Country Liberia per capita gdp is 279.2204061\n",
      "Country Malaysia per capita gdp is 5345.213415\n",
      "Country Mexico per capita gdp is 6288.25324\n",
      "Country Morocco per capita gdp is 1908.304416\n",
      "Country Nepal per capita gdp is 274.8728621\n",
      "Country New Zealand per capita gdp is 14646.42094\n",
      "Country Norway per capita gdp is 40034.85063\n",
      "Country Pakistan per capita gdp is 672.1547506\n",
      "Country Peru per capita gdp is 3359.517402\n",
      "Country Qatar per capita gdp is 36152.66676\n",
      "Country Russia per capita gdp is 3054.727742\n",
      "Country Singapore per capita gdp is 33529.83052\n",
      "Country South Africa per capita gdp is 3825.093781\n",
      "Country Spain per capita gdp is 15428.32098\n",
      "Country Sweden per capita gdp is 33630.24604\n",
      "Country Switzerland per capita gdp is 39170.41371\n",
      "Country Thailand per capita gdp is 2699.123242\n",
      "Country United Arab Emirates per capita gdp is 21058.43643\n",
      "Country United Kingdom per capita gdp is 28272.40661\n",
      "Country United States per capita gdp is 37691.02733\n",
      "Country Uruguay per capita gdp is 9581.05659\n",
      "Country Venezuela per capita gdp is 5671.912202\n",
      "Country Vietnam per capita gdp is 757.4009286\n",
      "Country Zimbabwe per capita gdp is 347.7456605\n"
     ]
    }
   ],
   "source": [
    "#Use a for loop to print the required list\n",
    "for i in range(len(countries)):\n",
    "    country=countries[i]\n",
    "    country_gdp=gdp[i]\n",
    "    print('Country {} per capita gdp is {}'. format(country, country_gdp))\n"
   ]
  },
  {
   "cell_type": "markdown",
   "metadata": {},
   "source": [
    "#### 6: Print the following:\n",
    "1. Highest GPD value\n",
    "2. Lowest GDP value\n",
    "3. Mean GDP value\n",
    "4. Standardized GDP value\n",
    "5. Sum of all the GDPs"
   ]
  },
  {
   "cell_type": "code",
   "execution_count": 12,
   "metadata": {
    "tags": []
   },
   "outputs": [
    {
     "name": "stdout",
     "output_type": "stream",
     "text": [
      "Highest GDP is of Norway with GDP 45\n",
      "Lowest GDP is of Ethiopia with GDP 21\n",
      "Mean of GDP is 11289.409271639683\n",
      "Standardized GDP is 12743.828910617945\n",
      "Sum of all GDP is 711232.7841133\n"
     ]
    }
   ],
   "source": [
    "print('Highest GDP is of {} with GDP {}'. format(countries_max,max_gdp))\n",
    "print('Lowest GDP is of {} with GDP {}'. format(countires_min,min_gdp))\n",
    "print('Mean of GDP is {}'. format(gdp.mean()))\n",
    "print('Standardized GDP is {}'.format(gdp.std()))\n",
    "print('Sum of all GDP is {}'. format(gdp.sum()))"
   ]
  },
  {
   "cell_type": "code",
   "execution_count": null,
   "metadata": {},
   "outputs": [],
   "source": []
  }
 ],
 "metadata": {
  "kernelspec": {
   "display_name": "Python 3 (ipykernel)",
   "language": "python",
   "name": "python3"
  },
  "language_info": {
   "codemirror_mode": {
    "name": "ipython",
    "version": 3
   },
   "file_extension": ".py",
   "mimetype": "text/x-python",
   "name": "python",
   "nbconvert_exporter": "python",
   "pygments_lexer": "ipython3",
   "version": "3.9.7"
  }
 },
 "nbformat": 4,
 "nbformat_minor": 4
}
